{
 "cells": [
  {
   "cell_type": "markdown",
   "metadata": {},
   "source": [
    "# Prominence Dynamics - Spectroscopy"
   ]
  },
  {
   "cell_type": "code",
   "execution_count": 1,
   "metadata": {},
   "outputs": [],
   "source": [
    "import numpy as np\n",
    "import matplotlib.pyplot as plt\n",
    "import astropy.io.fits as fits # allows one to access both data and header of FITS files.\n",
    "from astropy.wcs import WCS # allows to use Wor§ld Coords System\n",
    "import jupyterlab\n",
    "import hcr2fits\n",
    "#from iris_lmsalpy import hcr2fits\n",
    "import astropy\n",
    "import json\n",
    "import matplotlib\n",
    "import numpy\n",
    "import requests\n",
    "import os\n",
    "import traceback\n",
    "import PyQt5\n",
    "import pyqtgraph\n",
    "import pandas\n",
    "from sklearn import datasets\n",
    "from sklearn import preprocessing # for normalisation"
   ]
  },
  {
   "cell_type": "markdown",
   "metadata": {},
   "source": [
    "import sys\n",
    "!{sys.executable} -m pip install git+git://GitHub.com/OfAaron3/irispreppy.git"
   ]
  },
  {
   "cell_type": "code",
   "execution_count": 2,
   "metadata": {},
   "outputs": [
    {
     "name": "stderr",
     "output_type": "stream",
     "text": [
      "C:\\Users\\chiar\\AppData\\Local\\Temp\\ipykernel_11964\\3398558441.py:1: DeprecationWarning: Importing display from IPython.core.display is deprecated since IPython 7.14, please import from IPython display\n",
      "  from IPython.core.display import display, HTML\n"
     ]
    },
    {
     "data": {
      "text/html": [
       "<style>.container { width:90% !important; }</style>"
      ],
      "text/plain": [
       "<IPython.core.display.HTML object>"
      ]
     },
     "metadata": {},
     "output_type": "display_data"
    }
   ],
   "source": [
    "from IPython.core.display import display, HTML\n",
    "display(HTML(\"<style>.container { width:90% !important; }</style>\")) # this makes the Jupyter notbook wider"
   ]
  },
  {
   "cell_type": "markdown",
   "metadata": {},
   "source": [
    "`pip install pyserial`"
   ]
  },
  {
   "cell_type": "markdown",
   "metadata": {},
   "source": [
    "`!python -m pip uninstall irispreppy --yes`"
   ]
  },
  {
   "cell_type": "markdown",
   "metadata": {},
   "source": [
    "`pip install git+http://github.com/OfAaron3/irispreppy.git`"
   ]
  },
  {
   "cell_type": "markdown",
   "metadata": {},
   "source": [
    "`import irispreppy as ip`"
   ]
  },
  {
   "cell_type": "markdown",
   "metadata": {},
   "source": [
    "The raster data is saved in HDUs extensions and orgenised by spectral windows."
   ]
  },
  {
   "cell_type": "code",
   "execution_count": 15,
   "metadata": {},
   "outputs": [
    {
     "name": "stdout",
     "output_type": "stream",
     "text": [
      "16\n"
     ]
    },
    {
     "ename": "IndexError",
     "evalue": "list index out of range",
     "output_type": "error",
     "traceback": [
      "\u001b[1;31m---------------------------------------------------------------------------\u001b[0m",
      "\u001b[1;31mIndexError\u001b[0m                                Traceback (most recent call last)",
      "Input \u001b[1;32mIn [15]\u001b[0m, in \u001b[0;36m<cell line: 26>\u001b[1;34m()\u001b[0m\n\u001b[0;32m     24\u001b[0m \u001b[38;5;28mprint\u001b[39m(\u001b[38;5;28mlen\u001b[39m(rasters))\n\u001b[0;32m     25\u001b[0m \u001b[38;5;66;03m#The windows are described by headers:\u001b[39;00m\n\u001b[1;32m---> 26\u001b[0m \u001b[38;5;28mprint\u001b[39m(\u001b[43mrasters\u001b[49m\u001b[43m[\u001b[49m\u001b[38;5;241;43m0\u001b[39;49m\u001b[43m]\u001b[49m\u001b[43m[\u001b[49m\u001b[38;5;241;43m8\u001b[39;49m\u001b[43m]\u001b[49m\u001b[38;5;241m.\u001b[39mdata[\u001b[38;5;241m0\u001b[39m][\u001b[38;5;241m56\u001b[39m]\u001b[38;5;241m.\u001b[39mshape)\n",
      "File \u001b[1;32m~\\anaconda3\\lib\\site-packages\\astropy\\io\\fits\\hdu\\hdulist.py:327\u001b[0m, in \u001b[0;36mHDUList.__getitem__\u001b[1;34m(self, key)\u001b[0m\n\u001b[0;32m    324\u001b[0m \u001b[38;5;28;01mexcept\u001b[39;00m \u001b[38;5;167;01mIndexError\u001b[39;00m \u001b[38;5;28;01mas\u001b[39;00m e:\n\u001b[0;32m    325\u001b[0m     \u001b[38;5;66;03m# Raise a more helpful IndexError if the file was not fully read.\u001b[39;00m\n\u001b[0;32m    326\u001b[0m     \u001b[38;5;28;01mif\u001b[39;00m \u001b[38;5;28mself\u001b[39m\u001b[38;5;241m.\u001b[39m_read_all:\n\u001b[1;32m--> 327\u001b[0m         \u001b[38;5;28;01mraise\u001b[39;00m e\n\u001b[0;32m    328\u001b[0m     \u001b[38;5;28;01melse\u001b[39;00m:\n\u001b[0;32m    329\u001b[0m         \u001b[38;5;28;01mraise\u001b[39;00m \u001b[38;5;167;01mIndexError\u001b[39;00m(\u001b[38;5;124m'\u001b[39m\u001b[38;5;124mHDU not found, possibly because the index \u001b[39m\u001b[38;5;124m'\u001b[39m\n\u001b[0;32m    330\u001b[0m                          \u001b[38;5;124m'\u001b[39m\u001b[38;5;124mis out of range, or because the file was \u001b[39m\u001b[38;5;124m'\u001b[39m\n\u001b[0;32m    331\u001b[0m                          \u001b[38;5;124m'\u001b[39m\u001b[38;5;124mclosed before all HDUs were read\u001b[39m\u001b[38;5;124m'\u001b[39m)\n",
      "File \u001b[1;32m~\\anaconda3\\lib\\site-packages\\astropy\\io\\fits\\hdu\\hdulist.py:322\u001b[0m, in \u001b[0;36mHDUList.__getitem__\u001b[1;34m(self, key)\u001b[0m\n\u001b[0;32m    318\u001b[0m \u001b[38;5;66;03m# Originally this used recursion, but hypothetically an HDU with\u001b[39;00m\n\u001b[0;32m    319\u001b[0m \u001b[38;5;66;03m# a very large number of HDUs could blow the stack, so use a loop\u001b[39;00m\n\u001b[0;32m    320\u001b[0m \u001b[38;5;66;03m# instead\u001b[39;00m\n\u001b[0;32m    321\u001b[0m \u001b[38;5;28;01mtry\u001b[39;00m:\n\u001b[1;32m--> 322\u001b[0m     \u001b[38;5;28;01mreturn\u001b[39;00m \u001b[38;5;28;43mself\u001b[39;49m\u001b[38;5;241;43m.\u001b[39;49m\u001b[43m_try_while_unread_hdus\u001b[49m\u001b[43m(\u001b[49m\u001b[38;5;28;43msuper\u001b[39;49m\u001b[43m(\u001b[49m\u001b[43m)\u001b[49m\u001b[38;5;241;43m.\u001b[39;49m\u001b[38;5;21;43m__getitem__\u001b[39;49m\u001b[43m,\u001b[49m\n\u001b[0;32m    323\u001b[0m \u001b[43m                                       \u001b[49m\u001b[38;5;28;43mself\u001b[39;49m\u001b[38;5;241;43m.\u001b[39;49m\u001b[43m_positive_index_of\u001b[49m\u001b[43m(\u001b[49m\u001b[43mkey\u001b[49m\u001b[43m)\u001b[49m\u001b[43m)\u001b[49m\n\u001b[0;32m    324\u001b[0m \u001b[38;5;28;01mexcept\u001b[39;00m \u001b[38;5;167;01mIndexError\u001b[39;00m \u001b[38;5;28;01mas\u001b[39;00m e:\n\u001b[0;32m    325\u001b[0m     \u001b[38;5;66;03m# Raise a more helpful IndexError if the file was not fully read.\u001b[39;00m\n\u001b[0;32m    326\u001b[0m     \u001b[38;5;28;01mif\u001b[39;00m \u001b[38;5;28mself\u001b[39m\u001b[38;5;241m.\u001b[39m_read_all:\n",
      "File \u001b[1;32m~\\anaconda3\\lib\\site-packages\\astropy\\io\\fits\\hdu\\hdulist.py:1157\u001b[0m, in \u001b[0;36mHDUList._try_while_unread_hdus\u001b[1;34m(self, func, *args, **kwargs)\u001b[0m\n\u001b[0;32m   1155\u001b[0m \u001b[38;5;28;01mwhile\u001b[39;00m \u001b[38;5;28;01mTrue\u001b[39;00m:\n\u001b[0;32m   1156\u001b[0m     \u001b[38;5;28;01mtry\u001b[39;00m:\n\u001b[1;32m-> 1157\u001b[0m         \u001b[38;5;28;01mreturn\u001b[39;00m func(\u001b[38;5;241m*\u001b[39margs, \u001b[38;5;241m*\u001b[39m\u001b[38;5;241m*\u001b[39mkwargs)\n\u001b[0;32m   1158\u001b[0m     \u001b[38;5;28;01mexcept\u001b[39;00m \u001b[38;5;167;01mException\u001b[39;00m:\n\u001b[0;32m   1159\u001b[0m         \u001b[38;5;28;01mif\u001b[39;00m \u001b[38;5;28mself\u001b[39m\u001b[38;5;241m.\u001b[39m_read_next_hdu():\n",
      "\u001b[1;31mIndexError\u001b[0m: list index out of range"
     ]
    }
   ],
   "source": [
    "file_names = [\"spectroscopic_data/iris_l2_20140528_112458_3820111493_raster_t000_r00000.fits\",\n",
    "             \"spectroscopic_data/iris_l2_20140528_112458_3820111493_raster_t000_r00001.fits\",\n",
    "             \"spectroscopic_data/iris_l2_20140528_112458_3820111493_raster_t000_r00002.fits\",\n",
    "             \"spectroscopic_data/iris_l2_20140528_112458_3820111493_raster_t000_r00003.fits\",\n",
    "             \"spectroscopic_data/iris_l2_20140528_112458_3820111493_raster_t000_r00004.fits\",\n",
    "             \"spectroscopic_data/iris_l2_20140528_112458_3820111493_raster_t000_r00005.fits\",\n",
    "             \"spectroscopic_data/iris_l2_20140528_112458_3820111493_raster_t000_r00006.fits\",\n",
    "             \"spectroscopic_data/iris_l2_20140528_112458_3820111493_raster_t000_r00007.fits\",\n",
    "             \"spectroscopic_data/iris_l2_20140528_112458_3820111493_raster_t000_r00008.fits\",\n",
    "             \"spectroscopic_data/iris_l2_20140528_112458_3820111493_raster_t000_r00009.fits\",\n",
    "             \"spectroscopic_data/iris_l2_20140528_112458_3820111493_raster_t000_r00010.fits\",\n",
    "             \"spectroscopic_data/iris_l2_20140528_112458_3820111493_raster_t000_r00011.fits\",\n",
    "             \"spectroscopic_data/iris_l2_20140528_112458_3820111493_raster_t000_r00012.fits\",\n",
    "             \"spectroscopic_data/iris_l2_20140528_112458_3820111493_raster_t000_r00013.fits\",\n",
    "             \"spectroscopic_data/iris_l2_20140528_112458_3820111493_raster_t000_r00014.fits\",\n",
    "             \"spectroscopic_data/iris_l2_20140528_112458_3820111493_raster_t000_r00015.fits\"]\n",
    "rasters = []\n",
    "for i in range(0,16):\n",
    "    sp = fits.open(file_names[i],\n",
    "                memmap=False, do_not_scale_image = False) # raster files are largers so memmap is a good idea\n",
    "    rasters.append(sp)\n",
    "\n",
    "hd_raster = sp[0].header\n",
    "print(len(rasters))\n",
    "#The windows are described by headers:\n",
    "print(rasters[0][8].data[0][56].shape)"
   ]
  },
  {
   "cell_type": "markdown",
   "metadata": {},
   "source": [
    "`raw = fits.open(\"iris_l2_20140528_112458_3820111493_raster_t000_r00000.fits\") #Raw data\n",
    "rc = ip.radcal(raw, quiet= False)\n",
    "#rc = ip.radcal(rasters[0])  #Radiometrically calibrated\n",
    "rc_d = ip.deconvolve(raw)   #Radiometrically calibrated and deconvolved`"
   ]
  },
  {
   "cell_type": "markdown",
   "metadata": {},
   "source": [
    "**Raster data information:** Very large sparse 64-step raster  \n",
    "    FOV:   63\"x175\"  \n",
    "    Steps:\t64x1\"  \n",
    "    Step Cad:\t16.2s  \n",
    "    Raster Cad:\t1,038s, 16 ras (time it takes for 1 raster to be completed)"
   ]
  },
  {
   "cell_type": "markdown",
   "metadata": {},
   "source": [
    "hd_raster['OBS_DESC']The number of spectral windows equals the number of FITS units minus three (metadata).  \n"
   ]
  },
  {
   "cell_type": "code",
   "execution_count": 8,
   "metadata": {
    "scrolled": false
   },
   "outputs": [
    {
     "name": "stderr",
     "output_type": "stream",
     "text": [
      "WARNING: non-ASCII characters are present in the FITS file header and have been replaced by \"?\" characters [astropy.io.fits.util]\n"
     ]
    },
    {
     "name": "stdout",
     "output_type": "stream",
     "text": [
      "2\n",
      "8\n",
      "182.32 63.396068573\n",
      "Window. Name      : wave start - wave end\n",
      "\n",
      "1. C II 1336      : 1332.70 - 1337.58 Å\n",
      "2. Fe XII 1349    : 1347.68 - 1350.87 Å\n",
      "3. O I 1356       : 1352.25 - 1356.69 Å\n",
      "4. Si IV 1394     : 1390.90 - 1396.19 Å\n",
      "5. Si IV 1403     : 1398.63 - 1406.34 Å\n",
      "6. 2832           : 2831.24 - 2834.24 Å\n",
      "7. 2814           : 2812.55 - 2816.37 Å\n",
      "8. Mg II k 2796   : 2793.00 - 2806.59 Å\n"
     ]
    },
    {
     "name": "stderr",
     "output_type": "stream",
     "text": [
      "WARNING: VerifyWarning: Error validating header for HDU #2 (note: Astropy uses zero-based indexing).\n",
      "    Header size is not multiple of 2880: 85895276\n",
      "There may be extra bytes after the last HDU or the file is corrupted. [astropy.io.fits.hdu.hdulist]\n"
     ]
    }
   ],
   "source": [
    "print(len(sp))\n",
    "print(hd_raster['NWIN'])\n",
    "#print(hd_raster)\n",
    "print(hd_raster['FOVY'],hd_raster['FOVX'])\n",
    "\n",
    "\n",
    "print('Window. Name      : wave start - wave end\\n')\n",
    "for i in range(hd_raster['NWIN']):\n",
    "    win = str(i + 1)\n",
    "    print('{0}. {1:15}: {2:.2f} - {3:.2f} Å'\n",
    "          ''.format(win, hd_raster['TDESC' + win], hd_raster['TWMIN' + win], hd_raster['TWMAX' + win]))"
   ]
  },
  {
   "cell_type": "markdown",
   "metadata": {},
   "source": [
    "The data has **shape**:  \n",
    "- raster postition (or time if sit and stare)(i.e. step in raster)  \n",
    "- y coordinate (space along slit),  \n",
    "- and the last axis is the wavelength (plotted along x axis)"
   ]
  },
  {
   "cell_type": "code",
   "execution_count": 9,
   "metadata": {},
   "outputs": [
    {
     "name": "stderr",
     "output_type": "stream",
     "text": [
      "WARNING: VerifyWarning: Error validating header for HDU #2 (note: Astropy uses zero-based indexing).\n",
      "    Header size is not multiple of 2880: 85909478\n",
      "There may be extra bytes after the last HDU or the file is corrupted. [astropy.io.fits.hdu.hdulist]\n"
     ]
    },
    {
     "ename": "IndexError",
     "evalue": "list index out of range",
     "output_type": "error",
     "traceback": [
      "\u001b[1;31m---------------------------------------------------------------------------\u001b[0m",
      "\u001b[1;31mIndexError\u001b[0m                                Traceback (most recent call last)",
      "Input \u001b[1;32mIn [9]\u001b[0m, in \u001b[0;36m<cell line: 1>\u001b[1;34m()\u001b[0m\n\u001b[1;32m----> 1\u001b[0m \u001b[43mrasters\u001b[49m\u001b[43m[\u001b[49m\u001b[38;5;241;43m5\u001b[39;49m\u001b[43m]\u001b[49m\u001b[43m[\u001b[49m\u001b[38;5;241;43m8\u001b[39;49m\u001b[43m]\u001b[49m\u001b[38;5;241m.\u001b[39mdata\u001b[38;5;241m.\u001b[39mshape\n",
      "File \u001b[1;32m~\\anaconda3\\lib\\site-packages\\astropy\\io\\fits\\hdu\\hdulist.py:327\u001b[0m, in \u001b[0;36mHDUList.__getitem__\u001b[1;34m(self, key)\u001b[0m\n\u001b[0;32m    324\u001b[0m \u001b[38;5;28;01mexcept\u001b[39;00m \u001b[38;5;167;01mIndexError\u001b[39;00m \u001b[38;5;28;01mas\u001b[39;00m e:\n\u001b[0;32m    325\u001b[0m     \u001b[38;5;66;03m# Raise a more helpful IndexError if the file was not fully read.\u001b[39;00m\n\u001b[0;32m    326\u001b[0m     \u001b[38;5;28;01mif\u001b[39;00m \u001b[38;5;28mself\u001b[39m\u001b[38;5;241m.\u001b[39m_read_all:\n\u001b[1;32m--> 327\u001b[0m         \u001b[38;5;28;01mraise\u001b[39;00m e\n\u001b[0;32m    328\u001b[0m     \u001b[38;5;28;01melse\u001b[39;00m:\n\u001b[0;32m    329\u001b[0m         \u001b[38;5;28;01mraise\u001b[39;00m \u001b[38;5;167;01mIndexError\u001b[39;00m(\u001b[38;5;124m'\u001b[39m\u001b[38;5;124mHDU not found, possibly because the index \u001b[39m\u001b[38;5;124m'\u001b[39m\n\u001b[0;32m    330\u001b[0m                          \u001b[38;5;124m'\u001b[39m\u001b[38;5;124mis out of range, or because the file was \u001b[39m\u001b[38;5;124m'\u001b[39m\n\u001b[0;32m    331\u001b[0m                          \u001b[38;5;124m'\u001b[39m\u001b[38;5;124mclosed before all HDUs were read\u001b[39m\u001b[38;5;124m'\u001b[39m)\n",
      "File \u001b[1;32m~\\anaconda3\\lib\\site-packages\\astropy\\io\\fits\\hdu\\hdulist.py:322\u001b[0m, in \u001b[0;36mHDUList.__getitem__\u001b[1;34m(self, key)\u001b[0m\n\u001b[0;32m    318\u001b[0m \u001b[38;5;66;03m# Originally this used recursion, but hypothetically an HDU with\u001b[39;00m\n\u001b[0;32m    319\u001b[0m \u001b[38;5;66;03m# a very large number of HDUs could blow the stack, so use a loop\u001b[39;00m\n\u001b[0;32m    320\u001b[0m \u001b[38;5;66;03m# instead\u001b[39;00m\n\u001b[0;32m    321\u001b[0m \u001b[38;5;28;01mtry\u001b[39;00m:\n\u001b[1;32m--> 322\u001b[0m     \u001b[38;5;28;01mreturn\u001b[39;00m \u001b[38;5;28;43mself\u001b[39;49m\u001b[38;5;241;43m.\u001b[39;49m\u001b[43m_try_while_unread_hdus\u001b[49m\u001b[43m(\u001b[49m\u001b[38;5;28;43msuper\u001b[39;49m\u001b[43m(\u001b[49m\u001b[43m)\u001b[49m\u001b[38;5;241;43m.\u001b[39;49m\u001b[38;5;21;43m__getitem__\u001b[39;49m\u001b[43m,\u001b[49m\n\u001b[0;32m    323\u001b[0m \u001b[43m                                       \u001b[49m\u001b[38;5;28;43mself\u001b[39;49m\u001b[38;5;241;43m.\u001b[39;49m\u001b[43m_positive_index_of\u001b[49m\u001b[43m(\u001b[49m\u001b[43mkey\u001b[49m\u001b[43m)\u001b[49m\u001b[43m)\u001b[49m\n\u001b[0;32m    324\u001b[0m \u001b[38;5;28;01mexcept\u001b[39;00m \u001b[38;5;167;01mIndexError\u001b[39;00m \u001b[38;5;28;01mas\u001b[39;00m e:\n\u001b[0;32m    325\u001b[0m     \u001b[38;5;66;03m# Raise a more helpful IndexError if the file was not fully read.\u001b[39;00m\n\u001b[0;32m    326\u001b[0m     \u001b[38;5;28;01mif\u001b[39;00m \u001b[38;5;28mself\u001b[39m\u001b[38;5;241m.\u001b[39m_read_all:\n",
      "File \u001b[1;32m~\\anaconda3\\lib\\site-packages\\astropy\\io\\fits\\hdu\\hdulist.py:1157\u001b[0m, in \u001b[0;36mHDUList._try_while_unread_hdus\u001b[1;34m(self, func, *args, **kwargs)\u001b[0m\n\u001b[0;32m   1155\u001b[0m \u001b[38;5;28;01mwhile\u001b[39;00m \u001b[38;5;28;01mTrue\u001b[39;00m:\n\u001b[0;32m   1156\u001b[0m     \u001b[38;5;28;01mtry\u001b[39;00m:\n\u001b[1;32m-> 1157\u001b[0m         \u001b[38;5;28;01mreturn\u001b[39;00m func(\u001b[38;5;241m*\u001b[39margs, \u001b[38;5;241m*\u001b[39m\u001b[38;5;241m*\u001b[39mkwargs)\n\u001b[0;32m   1158\u001b[0m     \u001b[38;5;28;01mexcept\u001b[39;00m \u001b[38;5;167;01mException\u001b[39;00m:\n\u001b[0;32m   1159\u001b[0m         \u001b[38;5;28;01mif\u001b[39;00m \u001b[38;5;28mself\u001b[39m\u001b[38;5;241m.\u001b[39m_read_next_hdu():\n",
      "\u001b[1;31mIndexError\u001b[0m: list index out of range"
     ]
    }
   ],
   "source": [
    "rasters[5][8].data.shape \n",
    "#plt.imshow(rasters[5][8].data[63])\n",
    "#plt.show()"
   ]
  },
  {
   "cell_type": "raw",
   "metadata": {},
   "source": [
    "sp[7].data.shape # accesses 7th window\n",
    "\n",
    "wcs_raster = WCS(sp[8].header) # convert from pixels to WCS\n",
    "m_to_nm = 1e9  # convert wavelength to nm\n",
    "nwave = sp[7].data.shape[2]\n",
    "wavelength = wcs_raster.all_pix2world(np.arange(nwave), [0.], [0.], 0)[0] * m_to_nm"
   ]
  },
  {
   "cell_type": "code",
   "execution_count": null,
   "metadata": {},
   "outputs": [],
   "source": [
    "rasters[5][8].data.shape # accesses 8th window of 5th raster\n",
    "\n",
    "wcs_raster = WCS(rasters[8][8].header) # convert from pixels to WCS\n",
    "m_to_nm = 1e9  # convert wavelength to nm\n",
    "nwave = rasters[8][8].data.shape[2]\n",
    "wavelength = wcs_raster.all_pix2world(np.arange(nwave), [0.], [0.], 0)[0] * m_to_nm\n",
    "\n",
    "t_rasters = ['11:24 - 11:42', '11:42 - 11:59', '12:00-12:17', '12:17 - 12:34', '12:35 - 12 :51', '12:52 - 13:08', '13:08 - 13:26', '13:26 - 13:43','13:43 - 14:00', '14:00 - 14:17', '14:17 - 14:34', '14:34 - 14:52', '14:52  -15:10', '15:10 - 15:27', '15:27 - 15:44', '15:44 - 16:01']\n",
    "print(len(t_rasters))"
   ]
  },
  {
   "cell_type": "code",
   "execution_count": null,
   "metadata": {},
   "outputs": [],
   "source": [
    "plt.plot(wavelength, rasters[5][8].data[53, 120]) # choose the step and then the y position of the pixel alog that step? you want to plot\n",
    "plt.xlabel(\"Wavelength (nm)\")\n",
    "plt.ylabel(\"Intensity (DN)\")\n",
    "plt.show()\n",
    "\n",
    "plt.figure(figsize=(9,6))\n",
    "plt.plot(wavelength[20:256], rasters[5][8].data[63, 180, 20:256], color='b') # choose the step and then the y position of the pixel alog that step? you want to plot\n",
    "plt.xlabel(\"Wavelength (nm)\")\n",
    "plt.ylabel(\"Intensity (DN)\")\n",
    "plt.grid()\n",
    "plt.show()\n",
    "\n",
    "plt.figure(figsize=(9,6))\n",
    "plt.plot(wavelength[20:256], rasters[5][8].data[25, 149, 20:256], color='b') # choose the step and then the y position of the pixel alog that step? you want to plot\n",
    "plt.xlabel(\"Wavelength (nm)\")\n",
    "plt.ylabel(\"Intensity (DN)\")\n",
    "plt.grid()\n",
    "plt.show()"
   ]
  },
  {
   "cell_type": "markdown",
   "metadata": {},
   "source": [
    "Spectroheliogram: we can plot an image of the sun at a fixed wavelength position. This is possible because the IRIS moves and creates a raster."
   ]
  },
  {
   "cell_type": "code",
   "execution_count": null,
   "metadata": {},
   "outputs": [],
   "source": [
    "mg_index = np.argmin(np.abs(wavelength - 279.6351)) # 279.6351 nm is the line core of the Mg II k line\n",
    "print(wavelength[mg_index], mg_index)\n",
    "#mg_index = np.argmin(np.abs(wavelength - 280.2704))\n",
    "# the above code finds the waveleght closest to the line core\n",
    "plt.figure(figsize=[10,8])\n",
    "plt.imshow(rasters[5][8].data[..., mg_index], vmin=-200, vmax=800)\n",
    "plt.grid()\n",
    "plt.show()"
   ]
  },
  {
   "cell_type": "markdown",
   "metadata": {},
   "source": [
    "### Applying the Quantile Method\n",
    "\n",
    "Steps:\n",
    "- Normalise intensity profiles\n",
    "- Calculate Cumulative Distribution Function (CDF) of the normalised intensity profile  \n",
    "- The line centre is then given by the wavelength position of the 50% level of the CDF [Ruan2018]\n",
    "\n",
    "#### 1 - Normalising instensity profiles:"
   ]
  },
  {
   "cell_type": "code",
   "execution_count": null,
   "metadata": {
    "scrolled": false
   },
   "outputs": [],
   "source": [
    "# normalize the data \n",
    "\n",
    "from sklearn.preprocessing import MinMaxScaler\n",
    "scaler = MinMaxScaler()\n",
    "\n",
    "data = rasters[5][8].data[63, 200].reshape(-1, 1)\n",
    "print(scaler.fit(data))\n",
    "scaled_data = scaler.transform(data).flatten()\n",
    "#print(scaled_data)\n",
    "#normalized = preprocessing.normalize(rasters[5][8].data[63, 200])\n",
    "#print(rasters[5][8].data.shape[1])"
   ]
  },
  {
   "cell_type": "markdown",
   "metadata": {},
   "source": [
    "For all data:"
   ]
  },
  {
   "cell_type": "raw",
   "metadata": {},
   "source": [
    "# DATA NORMALISED SO THAT INTENSITIES ARE BETWEEN 0 and 1\n",
    "\n",
    "from sklearn.preprocessing import MinMaxScaler\n",
    "scaler = MinMaxScaler()\n",
    "\n",
    "n_rasters = 16\n",
    "n_steps = 64\n",
    "n_ypixels = 548\n",
    "\n",
    "S_DATA = []\n",
    "for k in range(0,n_rasters): # for every raster k\n",
    "    SCALED_RASTERS = []\n",
    "    for i in range(0, n_steps):  #HERE\n",
    "        scaled_step = []\n",
    "        for j in range(0, n_ypixels-28): # rescaling every pixel j of a step i\n",
    "            d = rasters[k][8].data[i, j, 20:250].reshape(-1, 1)  # CHANGE WAVELENGTH RANGE\n",
    "            scaler.fit(d)\n",
    "            scaled = np.array(scaler.transform(d).flatten())\n",
    "            scaled_step.append(scaled)\n",
    "        SCALED_RASTERS.append(scaled_step)\n",
    "    S_DATA.append(np.array(SCALED_RASTERS))\n",
    "\n",
    "S_DATA = np.array(S_DATA)\n",
    "S_DATA.shape"
   ]
  },
  {
   "cell_type": "code",
   "execution_count": null,
   "metadata": {},
   "outputs": [],
   "source": [
    "# DATA NORMALISED SO THAT INTENSITIES ARE BETWEEN 0 and 1\n",
    "\n",
    "from sklearn.preprocessing import MinMaxScaler\n",
    "scaler = MinMaxScaler()\n",
    "\n",
    "n_rasters = 16\n",
    "n_steps = 64\n",
    "n_ypixels = 548\n",
    "\n",
    "S_DATA = []\n",
    "for k in range(0,n_rasters): # for every raster k\n",
    "    SCALED_RASTERS = []\n",
    "    for i in range(0, n_steps):  \n",
    "        scaled_step = []\n",
    "        for j in range(0, n_ypixels-28): # rescaling every pixel j of a step i\n",
    "            #for w in range(0, 268):\n",
    "               # if rasters[k][8].data[i, j, w] < 0:  # or Nah\n",
    "                 #   rasters[k][8].data[i, j, w] = 0\n",
    "            d = rasters[k][8].data[i, j, 20:250]#.reshape(-1, 1)  # CHANGE WAVELENGTH RANGE\n",
    "            #scaler.fit(d)\n",
    "            #scaled = np.array(scaler.transform(d).flatten())\n",
    "            scaled_step.append(d) # from scaled to d\n",
    "        SCALED_RASTERS.append(scaled_step)\n",
    "    S_DATA.append(np.array(SCALED_RASTERS))\n",
    "\n",
    "S_DATA = np.array(S_DATA)\n",
    "S_DATA.shape"
   ]
  },
  {
   "cell_type": "raw",
   "metadata": {},
   "source": [
    "# DATA NORMALISED SO THAT INTENSITIES ARE BETWEEN 0 and 1\n",
    "\n",
    "from sklearn.preprocessing import MinMaxScaler\n",
    "scaler = MinMaxScaler()\n",
    "\n",
    "n_rasters = 16\n",
    "n_steps = 64\n",
    "n_ypixels = 548\n",
    "\n",
    "S_DATA = []\n",
    "for k in range(0,n_rasters): # for every raster k\n",
    "    SCALED_RASTERS = []\n",
    "    for i in range(0, n_steps):  #HERE\n",
    "        scaled_step = []\n",
    "        for j in range(0, n_ypixels-28): # rescaling every pixel j of a step i\n",
    "            d = rasters[k][8].data[i, j, 20:250]#.reshape(-1, 1)  # CHANGE WAVELENGTH RANGE\n",
    "            #scaler.fit(d)\n",
    "            #scaled = np.array(scaler.transform(d).flatten())\n",
    "            scaled_step.append(d)\n",
    "        SCALED_RASTERS.append(scaled_step)\n",
    "    S_DATA.append(np.array(SCALED_RASTERS))\n",
    "\n",
    "S_DATA = np.array(S_DATA)\n",
    "S_DATA = S_DATA.astype('float')\n",
    "print(S_DATA.shape, np.max(S_DATA))\n",
    "\n",
    "S_DATA = (S_DATA + np.abs(np.min(S_DATA)))/(np.max(S_DATA))"
   ]
  },
  {
   "cell_type": "raw",
   "metadata": {},
   "source": [
    "print(S_DATA.shape)\n",
    "print(S_DATA[0,51,56])"
   ]
  },
  {
   "cell_type": "code",
   "execution_count": null,
   "metadata": {
    "scrolled": true
   },
   "outputs": [],
   "source": [
    "# CHANGE OF WAVELENGTH RANGE\n",
    "\n",
    "wavelength = wavelength[20:250]\n",
    "core_k = 279.5528 #nm\n",
    "core_h = 280.2704 #nm\n",
    "print(wavelength[0], wavelength[-1])\n",
    "print(core_k - wavelength[0])\n",
    "\n",
    "width = 0.130 #nm\n",
    "\n",
    "#ll_k = np.argmin(np.abs(wavelength - (core_k - width)))\n",
    "#ul_k = np.argmin(np.abs(wavelength - (core_k + width)))\n",
    "\n",
    "#ll_h = np.argmin(np.abs(wavelength - (core_h - width)))\n",
    "#ul_h = np.argmin(np.abs(wavelength - (core_h + width)))\n",
    "\n",
    "#wrange_k = wavelength[ll_k:ul_k]\n",
    "#wrange_h = wavelength[ll_h:ul_h]\n",
    "\n",
    "#print(wrange_k[0], wrange_k[-1])\n",
    "#print(wrange_h[0], wrange_h[-1])"
   ]
  },
  {
   "cell_type": "code",
   "execution_count": null,
   "metadata": {
    "scrolled": true
   },
   "outputs": [],
   "source": [
    "# This is to check that the position of the data within the S_DATA array is correct.\n",
    "\n",
    "plt.figure(figsize=[12,6])\n",
    "plt.plot(wavelength, S_DATA[5][53][20])#SCALED_RASTERS[63][200]) # choose the step and then the y position of the pixel alog that step? you want to plot # WAVELENGTH RANGE\n",
    "plt.vlines(x = wavelength[np.argmin(np.abs(wavelength - (core_k - width)))], ymin=S_DATA[5][53][20].min(), ymax= S_DATA[5][53][20].max(), color = 'g')\n",
    "plt.vlines(x = wavelength[np.argmin(np.abs(wavelength - (core_k + width)))], ymin=S_DATA[5][53][20].min(), ymax= S_DATA[5][53][20].max(), color = 'g')\n",
    "plt.vlines(x = wavelength[np.argmin(np.abs(wavelength - (core_h - width)))], ymin=S_DATA[5][53][20].min(), ymax= S_DATA[5][53][20].max(), color = 'g')\n",
    "plt.vlines(x = wavelength[np.argmin(np.abs(wavelength - (core_h + width)))], ymin=S_DATA[5][53][20].min(), ymax= S_DATA[5][53][20].max(), color = 'g')\n",
    "#plt.ylim(0,1)\n",
    "plt.xticks(np.arange(279.3,280.8,0.1))\n",
    "plt.xlabel(\"Wavelength (nm)\")\n",
    "plt.ylabel(\"Intensity (DN)\")\n",
    "plt.show()\n",
    "\n",
    "plt.figure(figsize=[12,6])\n",
    "plt.plot(wavelength, S_DATA[5][53][200])#SCALED_RASTERS[63][200]) # choose the step and then the y position of the pixel alog that step? you want to plot # WAVELENGTH RANGE\n",
    "plt.vlines(x = wavelength[np.argmin(np.abs(wavelength - (core_k - width)))], ymin=S_DATA[5][53][200].min(), ymax= S_DATA[5][53][200].max(), color = 'g')\n",
    "plt.vlines(x = wavelength[np.argmin(np.abs(wavelength - (core_k + width)))], ymin=S_DATA[5][53][200].min(), ymax= S_DATA[5][53][200].max(), color = 'g')\n",
    "plt.vlines(x = wavelength[np.argmin(np.abs(wavelength - (core_h - width)))], ymin=S_DATA[5][53][200].min(), ymax= S_DATA[5][53][200].max(), color = 'g')\n",
    "plt.vlines(x = wavelength[np.argmin(np.abs(wavelength - (core_h + width)))], ymin=S_DATA[5][53][200].min(), ymax= S_DATA[5][53][200].max(), color = 'g')\n",
    "plt.vlines(x = core_k, ymin=S_DATA[5][53][200].min(), ymax= S_DATA[5][53][200].max(), color = 'r')\n",
    "plt.xticks(np.arange(279.3,280.8,0.1))\n",
    "#plt.ylim(0,1)\n",
    "plt.xlabel(\"Wavelength (nm)\")\n",
    "plt.ylabel(\"Intensity (DN)\")\n",
    "plt.show()"
   ]
  },
  {
   "cell_type": "markdown",
   "metadata": {},
   "source": []
  },
  {
   "cell_type": "markdown",
   "metadata": {},
   "source": [
    "#### Finding a reference wavelength:\n",
    "\n",
    "To calculate the redshift we need to find a reference wavelength from the quiet Sun."
   ]
  },
  {
   "cell_type": "code",
   "execution_count": null,
   "metadata": {
    "scrolled": true
   },
   "outputs": [],
   "source": [
    "for i in range(0,n_rasters):\n",
    "    plt.figure(figsize=[14,4])\n",
    "    plt.imshow(S_DATA[i, :, :, mg_index-20], vmin=0, vmax=800) #np.argmin(np.abs(wrange_k - core_k))])\n",
    "    plt.title('Raster {0}: {1} UT'.format(i, t_rasters[i]))\n",
    "    #plt.imshow(scipy.ndimage.rotate(S_DATA[1, :, :,np.argmin(np.abs(wrange_k - core_k)) ],90))\n",
    "\n",
    "    # Quiet region 1\n",
    "    plt.hlines(y= 30, xmin=450, xmax= 500, color='r')\n",
    "    plt.hlines(y= 60, xmin=450, xmax= 500, color='r')\n",
    "    plt.vlines(x= 450, ymin=30, ymax=60, color='r')\n",
    "    plt.vlines(x= 500, ymin=30, ymax=60, color='r')\n",
    "    # Quiet region 2\n",
    "    plt.hlines(y= 30, xmin=0, xmax= 50, color='r')\n",
    "    plt.hlines(y= 60, xmin=0, xmax= 50, color='r')\n",
    "    plt.vlines(x= 0, ymin=30, ymax=60, color='r')\n",
    "    plt.vlines(x= 50, ymin=30, ymax=60, color='r')\n",
    "    plt.grid()\n",
    "    plt.show()"
   ]
  },
  {
   "cell_type": "code",
   "execution_count": null,
   "metadata": {},
   "outputs": [],
   "source": [
    "plt.figure(figsize=[8,8])\n",
    "plt.imshow(np.rot90(S_DATA[12, :, :, mg_index-20]), vmin=0, vmax=800) #np.argmin(np.abs(wrange_k - core_k))])\n",
    "plt.title('Raster {0}: \\n{1} UT'.format(13, t_rasters[13]))\n",
    "#plt.colorbar()\n",
    "plt.hlines(y= 70, xmin=30, xmax= 60, color='r')\n",
    "plt.hlines(y= 20, xmin=30, xmax= 60, color='r')\n",
    "plt.vlines(x= 30, ymin=70, ymax=20, color='r')\n",
    "plt.vlines(x= 60, ymin=70, ymax=20, color='r')\n",
    "plt.show()"
   ]
  },
  {
   "cell_type": "raw",
   "metadata": {
    "scrolled": true
   },
   "source": [
    "# Take linecores of all images in the quiet region, then take the mean to find the rest wavelength.\n",
    "\n",
    "rest_w_k = []\n",
    "for i in range(0,n_rasters):\n",
    "    rest_w_k.append(LINECORES_k[i, 20:50, 450:500]) \n",
    "rest_w_k = ((np.array(rest_w_k)).flatten()).astype('float')\n",
    "\n",
    "rest_w_h = []\n",
    "for i in range(0,n_rasters):\n",
    "    rest_w_h.append(LINECORES_h[i, 20:50, 450:500]) \n",
    "rest_w_h = ((np.array(rest_w_h)).flatten()).astype('float')\n",
    "\n",
    "\n",
    "print(rest_w_k.shape)\n",
    "rest_wavelength_k = np.mean(rest_w_k)\n",
    "rest_wavelength_h = np.mean(rest_w_h)\n",
    "print(rest_wavelength_k, rest_wavelength_h)\n",
    "\n",
    "# make an array full of just the rest wavelength value\n",
    "REF_WAVELENGTH_k = np.full((S_DATA.shape[0], S_DATA.shape[1], S_DATA.shape[2]), rest_wavelength_k)\n",
    "REF_WAVELENGTH_h = np.full((S_DATA.shape[0], S_DATA.shape[1], S_DATA.shape[2]), rest_wavelength_h)\n"
   ]
  },
  {
   "cell_type": "code",
   "execution_count": null,
   "metadata": {},
   "outputs": [],
   "source": [
    "pixel = np.full(len(wavelength), 0) # we want an 'empty pixel' where we can sum all the intensity values\n",
    "for i in range(1,S_DATA.shape[0]):\n",
    "    for k in range(30,60): # we want pixels from step 30 to step 60\n",
    "        for j in range(300,350): # Q1 (450,500)  Q2 (0,50)\n",
    "            pixel = pixel + S_DATA[i,k,j]\n",
    "            \n",
    "#CS_r = np.cumsum(pixel, axis=0) # array containing cumulative sum all all intensity values in pixel\n",
    "#total_r = pixel.sum() # sum all all intensity values in pixel\n",
    "#w_index =  np.argmin(np.abs(CS_r/total_r - 0.50)) # index of wavelength at which we find 0.5 quantile\n",
    "\n",
    "#rest_wavelength = wavelength[w_index]\n",
    "#REF_WAVELENGTH = np.full((S_DATA.shape[0], S_DATA.shape[1], S_DATA.shape[2]), rest_wavelength) # array with same shape as linecore data but filled only with rest wavelength\n",
    "\n",
    "# ranges of wavalength around core\n",
    "wrange_k = wavelength[np.argmin(np.abs(wavelength - 279.55)):np.argmin(np.abs(wavelength - 279.71))] \n",
    "wrange_h = wavelength[np.argmin(np.abs(wavelength - 280.29)):np.argmin(np.abs(wavelength - 280.40))]\n",
    "\n",
    "print(len(wrange_k))\n",
    "\n",
    "plt.figure(figsize=[20,10])\n",
    "pixel = pixel/(15*30*50) # intensities divided by number of pixels we averaged          \n",
    "plt.plot(wavelength, pixel,label = 'average profile in quiet area')\n",
    "#plt.vlines(x=rest_wavelength, ymin=pixel[10:-10].min(),ymax=pixel[10:-10].max(), color='r', label = 'rest wavelength for k line')\n",
    "plt.vlines(x=wrange_k[0], ymin=pixel[10:-10].min(),ymax=pixel[10:-10].max(), color='g')\n",
    "plt.vlines(x=wrange_k[-1], ymin=pixel[10:-10].min(),ymax=pixel[10:-10].max(), color='g')\n",
    "plt.vlines(x=wrange_h[0], ymin=pixel[10:-10].min(),ymax=pixel[10:-10].max(), color='g')\n",
    "plt.vlines(x=wrange_h[-1], ymin=pixel[10:-10].min(),ymax=pixel[10:-10].max(), color='g')\n",
    "plt.title(' Full average profile')\n",
    "plt.xlabel(\"Wavelength (nm)\")\n",
    "plt.ylabel(\"Intensity (DN)\")\n",
    "plt.xticks(np.arange(int(wavelength[0])+0.3, int(wavelength[-1])+0.7, 0.05))\n",
    "plt.legend()\n",
    "plt.grid()\n",
    "plt.show()"
   ]
  },
  {
   "cell_type": "markdown",
   "metadata": {},
   "source": [
    "for the **k line**:"
   ]
  },
  {
   "cell_type": "raw",
   "metadata": {},
   "source": [
    "#wrange_k2 = wrange_k[np.argmin(np.abs(wrange_k - 279.50)):np.argmin(np.abs(wrange_k - 279.70))]\n",
    "print(wrange_k[np.argmin(np.abs(wrange_k - 279.50))])\n",
    "\n",
    "pixel_k = np.full(len(wrange_k), 0) # we want an 'empty pixel' where we can sum all the intensity values\n",
    "for i in range(1,S_DATA.shape[0]):\n",
    "    for k in range(30,60): # we want pixels from step 40 to step 60\n",
    "        for j in range(450,500): # Q1 (450,500)  Q2 (0,50)\n",
    "            pixel_k = pixel_k + S_DATA[i,k,j, np.argmin(np.abs(wavelength - 279.50)): np.argmin(np.abs(wavelength - 279.70))] #ll_k:ul_k]\n",
    "            \n",
    "pixel_k = pixel_k/(S_DATA.shape[0]*30*50)\n",
    "print(pixel_k)\n",
    "CS_r_k = np.cumsum(pixel_k) # array containing cumulative sum all all intensity values in pixel\n",
    "total_r_k = CS_r_k[-1] #pixel_k.sum() # sum all all intensity values in pixel\n",
    "rest_wavelength_k = wrange_k[np.argmin(np.abs(CS_r_k/total_r_k - 0.50))]\n",
    "REF_WAVELENGTH_k = np.full((S_DATA.shape[0], S_DATA.shape[1], S_DATA.shape[2]), rest_wavelength_k) # array with same shape as linecore data but filled only with rest wavelength\n",
    "\n",
    "print(rest_wavelength_k)\n",
    "print(CS_r_k/total_r_k)\n",
    "print(len(wrange_k), np.argmin(np.abs(CS_r_k/total_r_k - 0.50)))\n",
    "\n",
    "plt.figure(figsize=[8,6])\n",
    " # intensities divided by number of pixels we averaged          \n",
    "plt.plot(wrange_k, pixel_k, label = 'average profile in quiet area')\n",
    "plt.vlines(x=rest_wavelength_k, ymin=pixel_k.min(),ymax=pixel_k.max(), color='r', label = 'rest wavelength for k line')\n",
    "plt.title('Average k-line profile')\n",
    "plt.xlabel(\"Wavelength (nm)\")\n",
    "plt.ylabel(\"Intensity (DN)\")\n",
    "plt.legend()\n",
    "plt.grid()\n",
    "plt.show()"
   ]
  },
  {
   "cell_type": "code",
   "execution_count": null,
   "metadata": {},
   "outputs": [],
   "source": [
    "pixel_k = pixel[np.argmin(np.abs(wavelength - 279.55)):np.argmin(np.abs(wavelength - 279.71))]   \n",
    "CS_r_k = np.cumsum(pixel_k) # array containing cumulative sum all all intensity values in pixel\n",
    "total_r_k = CS_r_k[-1] #pixel_k.sum() # sum all all intensity values in pixel\n",
    "rest_wavelength_k = wrange_k[np.argmin(np.abs(CS_r_k/total_r_k - 0.50))]\n",
    "REF_WAVELENGTH_k = np.full((S_DATA.shape[0], S_DATA.shape[1], S_DATA.shape[2]), rest_wavelength_k) # array with same shape as linecore data but filled only with rest wavelength\n",
    "\n",
    "#print(rest_wavelength_k)\n",
    "#print(CS_r_k/total_r_k)\n",
    "\n",
    "plt.figure(figsize=[8,6])\n",
    "# intensities divided by number of pixels we averaged          \n",
    "plt.plot(wrange_k, pixel_k, label = 'average profile in quiet area')\n",
    "plt.vlines(x=rest_wavelength_k, ymin=pixel_k.min(), ymax=pixel_k.max(), color='r', label = 'rest wavelength for k line')\n",
    "plt.title('Average k-line profile')\n",
    "plt.xlabel(\"Wavelength (nm)\")\n",
    "plt.ylabel(\"Intensity (DN)\")\n",
    "plt.legend()\n",
    "plt.grid()\n",
    "plt.show()\n",
    "\n",
    "print('The rest wavelength individuated for the Mg II k line is {0} nm'.format(rest_wavelength_k))"
   ]
  },
  {
   "cell_type": "markdown",
   "metadata": {},
   "source": [
    "for the **h line**:"
   ]
  },
  {
   "cell_type": "code",
   "execution_count": null,
   "metadata": {},
   "outputs": [],
   "source": [
    "pixel_h = pixel[np.argmin(np.abs(wavelength - 280.29)) :np.argmin(np.abs(wavelength - 280.40))]\n",
    "#print(pixel_h)\n",
    "CS_r_h = np.cumsum(pixel_h) # array containing cumulative sum all all intensity values in pixel\n",
    "total_r_h = CS_r_h[-1] #pixel_k.sum() # sum all all intensity values in pixel\n",
    "rest_wavelength_h = wrange_h[np.argmin(np.abs(CS_r_h/total_r_h - 0.50))]\n",
    "REF_WAVELENGTH_h = np.full((S_DATA.shape[0], S_DATA.shape[1], S_DATA.shape[2]), rest_wavelength_h) # array with same shape as linecore data but filled only with rest wavelength\n",
    "\n",
    "#print(rest_wavelength_h)\n",
    "#print(CS_r_h/total_r_h)\n",
    "#print(len(wrange_h), np.argmin(np.abs(CS_r_h/total_r_h - 0.50)))\n",
    "\n",
    "plt.figure(figsize=[8,6])\n",
    "# intensities divided by number of pixels we averaged          \n",
    "plt.plot(wrange_h, pixel_h, label = 'average profile in quiet area')\n",
    "plt.vlines(x=rest_wavelength_h, ymin=pixel_h.min(),ymax=pixel_h.max(), color='r', label = 'rest wavelength for h line')\n",
    "plt.title('Average h-line profile')\n",
    "plt.ylim(pixel_h.min(), pixel_h.max())\n",
    "plt.xlabel(\"Wavelength (nm)\")\n",
    "plt.ylabel(\"Intensity\")\n",
    "plt.legend()\n",
    "plt.grid()\n",
    "plt.show()\n",
    "\n",
    "print('The rest wavelength individuated for the Mg II h line is {0} nm'.format(rest_wavelength_h))"
   ]
  },
  {
   "cell_type": "code",
   "execution_count": null,
   "metadata": {},
   "outputs": [],
   "source": [
    "plt.figure(figsize=[20,10])\n",
    "pixel = pixel/(15*30*50) # intensities divided by number of pixels we averaged          \n",
    "plt.plot(wavelength, pixel,label = 'average profile in quiet area')\n",
    "#plt.vlines(x=rest_wavelength, ymin=pixel[10:-10].min(),ymax=pixel[10:-10].max(), color='r', label = 'rest wavelength for k line')\n",
    "plt.vlines(x=wrange_k[0], ymin=pixel[10:-10].min(),ymax=pixel[10:-10].max(), color='g')\n",
    "plt.vlines(x=wrange_k[-1], ymin=pixel[10:-10].min(),ymax=pixel[10:-10].max(), color='g')\n",
    "plt.vlines(x=wrange_h[0], ymin=pixel[10:-10].min(),ymax=pixel[10:-10].max(), color='g')\n",
    "plt.vlines(x=wrange_h[-1], ymin=pixel[10:-10].min(),ymax=pixel[10:-10].max(), color='g')\n",
    "plt.vlines(x = rest_wavelength_k, ymin=pixel[10:-10].min(), ymax=pixel[10:-10].max(), color = 'r', label='reference wavelength k')\n",
    "plt.vlines(x = rest_wavelength_h, ymin=pixel[10:-10].min(), ymax=pixel[10:-10].max(), color = 'r', label='reference wavelength h')\n",
    "plt.title(' Full average profile')\n",
    "plt.xlabel(\"Wavelength (nm)\")\n",
    "plt.ylabel(\"Intensity (DN)\")\n",
    "plt.xticks(np.arange(int(wavelength[0])+0.3, int(wavelength[-1])+0.7, 0.05))\n",
    "plt.legend()\n",
    "plt.grid()\n",
    "plt.show()\n",
    "\n",
    "\n",
    "plt.figure(figsize=[12,6])\n",
    "plt.plot(wavelength, S_DATA[5][53][200])#SCALED_RASTERS[63][200]) # choose the step and then the y position of the pixel alog that step? you want to plot # WAVELENGTH RANGE\n",
    "plt.vlines(x = wrange_k[0], ymin=S_DATA[5][53][200].min(), ymax= S_DATA[5][53][200].max(), color = 'g')\n",
    "plt.vlines(x = wrange_k[-1], ymin=S_DATA[5][53][200].min(), ymax= S_DATA[5][53][200].max(), color = 'g')\n",
    "plt.vlines(x = wrange_h[0], ymin=S_DATA[5][53][200].min(), ymax= S_DATA[5][53][200].max(), color = 'g')\n",
    "plt.vlines(x = wrange_h[-1], ymin=S_DATA[5][53][200].min(), ymax= S_DATA[5][53][200].max(), color = 'g')\n",
    "plt.vlines(x = rest_wavelength_k, ymin=S_DATA[5][53][200].min(), ymax= S_DATA[5][53][200].max(), color = 'r', label='reference wavelength k')\n",
    "plt.vlines(x = rest_wavelength_h, ymin=S_DATA[5][53][200].min(), ymax= S_DATA[5][53][200].max(), color = 'r', label='reference wavelength h')\n",
    "plt.xticks(np.arange(279.3,280.8,0.1))\n",
    "plt.xticks(np.arange(279.3,280.8,0.1))\n",
    "plt.xlabel(\"Wavelength (nm)\")\n",
    "plt.ylabel(\"Intensity (DN)\")\n",
    "plt.legend()\n",
    "plt.grid()\n",
    "plt.show()"
   ]
  },
  {
   "cell_type": "markdown",
   "metadata": {},
   "source": [
    "#### Finding the linecore:\n",
    "\n",
    "The linecores need to be found separately!!  \n",
    "The linecore is found at the wavelength at which the cumulative distribution function value is 0.5.  \n",
    "The cumulative sum of the intensities is calculated and then divided by the total sum. Then the difference between this ratio and 0.5 is found for each wavelength. The linecore is chosen when this different is the smallest."
   ]
  },
  {
   "cell_type": "raw",
   "metadata": {},
   "source": [
    "linecore_y = np.quantile(scaled_data, q=0.5)\n",
    "print(linecore_y) \n",
    "\n",
    "# The following code should find the wavelength at which the intensity corresponds to the value found above:\n",
    "index = np.where(scaled_data == round(linecore_y,8)) # if intensity == value above print index \n",
    "print(index)\n",
    "print(wavelength[index]) # use index found to obtain corresponding wavelength\n",
    "\n",
    "# the intensity takes the above value at multiple wavelengths: which one corresponds to the one with quantile 0.5?\n",
    "\n",
    "\n",
    "print(np.argmin(np.abs(scaled_data[80:-1] - linecore_y)))\n",
    "\n",
    "print(wavelength[19+11])\n",
    "\n",
    "#print(scaled_data[30], scaled_data[102])"
   ]
  },
  {
   "cell_type": "markdown",
   "metadata": {},
   "source": [
    "**k line**:"
   ]
  },
  {
   "cell_type": "raw",
   "metadata": {},
   "source": [
    "# Here the linecore is calculated for every pixel of every raster:\n",
    "\n",
    "LINECORES_k = []\n",
    "for k in range(0,S_DATA.shape[0]): # for each raster\n",
    "    linecores_r_k = []\n",
    "    for i in range(0, S_DATA.shape[1]): #for each step in a raster\n",
    "        linecores_step_k = []\n",
    "        for j in range(0, S_DATA.shape[2]): # for every pixel j of a step i\n",
    "            CS_k = np.cumsum(S_DATA[k,i,j,ll_k:ul_k])\n",
    "            total_k = S_DATA[k,i,j,ll_k:ul_k].sum()\n",
    "            if total_k == 0:\n",
    "                linecores_step_k.append('nan') #'error')\n",
    "            else:\n",
    "                #w_index = np.argmin(np.abs(CS_k/total_k - 0.50)) # index of wavelength corresponding to 0.5 quantile\n",
    "                linecores_step_k.append(wrange_k[np.argmin(np.abs(CS_k/total_k - 0.50))]) # or wavelength? by putting the wrong array here we get the wrong line core value!\n",
    "        linecores_r_k.append(linecores_step_k)\n",
    "    LINECORES_k.append(np.array(linecores_r_k))\n",
    "\n",
    "LINECORES_k = np.array(LINECORES_k)\n",
    "print(LINECORES_k.shape)"
   ]
  },
  {
   "cell_type": "code",
   "execution_count": null,
   "metadata": {},
   "outputs": [],
   "source": [
    "# Here the linecore is calculated for every pixel of every raster: \n",
    "\n",
    "width = 0.050\n",
    "ll_k = np.argmin(np.abs(wavelength - (rest_wavelength_k - width)))\n",
    "ul_k = np.argmin(np.abs(wavelength - (rest_wavelength_k + width)))\n",
    "w_k = wavelength[ll_k:ul_k]\n",
    "\n",
    "LINECORES_k = []\n",
    "for k in range(0,S_DATA.shape[0]): # for each raster\n",
    "    linecores_r_k = []\n",
    "    for i in range(0, S_DATA.shape[1]): #for each step in a raster\n",
    "        linecores_step_k = []\n",
    "        for j in range(0, S_DATA.shape[2]): # for every pixel j of a step i\n",
    "            CS_k = np.cumsum(S_DATA[k,i,j,ll_k:ul_k])\n",
    "            total_k = S_DATA[k,i,j,ll_k:ul_k].sum()\n",
    "            if total_k == 0:\n",
    "                linecores_step_k.append('nan') #'error')\n",
    "            else:\n",
    "                #w_index = np.argmin(np.abs(CS_k/total_k - 0.50)) # index of wavelength corresponding to 0.5 quantile\n",
    "                linecores_step_k.append(w_k[np.argmin(np.abs(CS_k/total_k - 0.50))]) # or wavelength? by putting the wrong array here we get the wrong line core value!\n",
    "        linecores_r_k.append(linecores_step_k)\n",
    "    LINECORES_k.append(np.array(linecores_r_k))\n",
    "\n",
    "LINECORES_k = np.array(LINECORES_k).astype('float')\n",
    "print(LINECORES_k.shape)"
   ]
  },
  {
   "cell_type": "markdown",
   "metadata": {},
   "source": [
    "**h line**:"
   ]
  },
  {
   "cell_type": "code",
   "execution_count": null,
   "metadata": {},
   "outputs": [],
   "source": [
    "# Here the linecore is calculated for every pixel of every raster:\n",
    "\n",
    "ll_h = np.argmin(np.abs(wavelength - (rest_wavelength_h - width)))\n",
    "ul_h = np.argmin(np.abs(wavelength - (rest_wavelength_h + width)))\n",
    "w_h = wavelength[ll_h:ul_h]\n",
    "\n",
    "LINECORES_h = []\n",
    "for k in range(0,S_DATA.shape[0]): # for each raster\n",
    "    linecores_r_h = []\n",
    "    for i in range(0, S_DATA.shape[1]): #for each step in a raster\n",
    "        linecores_step_h = []\n",
    "        for j in range(0, S_DATA.shape[2]): # for every pixel j of a step i\n",
    "            CS_h = np.cumsum(S_DATA[k,i,j,ll_h:ul_h], axis= 0)\n",
    "            total_h = S_DATA[k,i,j,ll_h:ul_h].sum()\n",
    "            if total_h == 0:\n",
    "                linecores_step_h.append('nan') #'error')\n",
    "            else:\n",
    "                linecores_step_h.append(w_h[np.argmin(np.abs(CS_h/total_h - 0.50))])\n",
    "        linecores_r_h.append(linecores_step_h)\n",
    "    LINECORES_h.append(np.array(linecores_r_h))\n",
    "\n",
    "LINECORES_h = np.array(LINECORES_h).astype('float')\n",
    "print(LINECORES_h.shape)"
   ]
  },
  {
   "cell_type": "code",
   "execution_count": null,
   "metadata": {},
   "outputs": [],
   "source": [
    "plt.figure(figsize=[14,8])\n",
    "plt.plot(wavelength, S_DATA[5][53][200])#SCALED_RASTERS[63][200]) # choose the step and then the y position of the pixel alog that step? you want to plot # WAVELENGTH RANGE\n",
    "plt.vlines(x = wavelength[ll_k], ymin=S_DATA[5][53][200].min(), ymax= S_DATA[5][53][200].max(), color = 'g',label='wavelength ranges considered')\n",
    "plt.vlines(x = wavelength[ul_k], ymin=S_DATA[5][53][200].min(), ymax= S_DATA[5][53][200].max(), color = 'g')\n",
    "plt.vlines(x = wavelength[ll_h], ymin=S_DATA[5][53][200].min(), ymax= S_DATA[5][53][200].max(), color = 'g')\n",
    "plt.vlines(x = wavelength[ul_h], ymin=S_DATA[5][53][200].min(), ymax= S_DATA[5][53][200].max(), color = 'g')\n",
    "plt.vlines(x = rest_wavelength_k, ymin=S_DATA[5][53][200].min(), ymax= S_DATA[5][53][200].max(), color = 'r' ,label='reference linecores')\n",
    "plt.vlines(x = rest_wavelength_h, ymin=S_DATA[5][53][200].min(), ymax= S_DATA[5][53][200].max(), color = 'r')\n",
    "plt.vlines(x = LINECORES_k[5,53,200], ymin=S_DATA[5][53][200].min(), ymax= S_DATA[5][53][200].max(), color = 'y',label='linecores (quantile method)')\n",
    "plt.vlines(x = LINECORES_h[5,53,200], ymin=S_DATA[5][53][200].min(), ymax= S_DATA[5][53][200].max(), color = 'y')\n",
    "plt.xticks(np.arange(279.3,280.8,0.1))\n",
    "plt.xticks(np.arange(279.3,280.8,0.1))\n",
    "plt.title('Mg II k and h lines profile')\n",
    "plt.xlabel(\"Wavelength (nm)\")\n",
    "plt.ylabel(\"Intensity (DN)\")\n",
    "plt.grid()\n",
    "plt.legend()\n",
    "plt.show()"
   ]
  },
  {
   "cell_type": "markdown",
   "metadata": {},
   "source": [
    "#### Calculating the redshift:\n",
    "\n",
    "Once the rest wevalength is obtained the redshift can be calculated using the formula {$z = \\frac{\\lambda_o - \\lambda_e}{\\lambda_e}$}."
   ]
  },
  {
   "cell_type": "code",
   "execution_count": null,
   "metadata": {},
   "outputs": [],
   "source": [
    "REDSHIFT_k = (LINECORES_k.astype('float') - REF_WAVELENGTH_k.astype('float'))/rest_wavelength_k\n",
    "REDSHIFT_h = (LINECORES_h.astype('float') - REF_WAVELENGTH_h.astype('float'))/rest_wavelength_h\n",
    "c = 299792.458 # km/s\n",
    "V_k = REDSHIFT_k*c\n",
    "V_h = REDSHIFT_h*c\n",
    "print(S_DATA.shape)"
   ]
  },
  {
   "cell_type": "code",
   "execution_count": null,
   "metadata": {
    "scrolled": false
   },
   "outputs": [],
   "source": [
    "for i in range(0,15):\n",
    "    for j in range(0,63):\n",
    "        for k in range(0,V_k.shape[2]):\n",
    "            int_i = np.trapz(S_DATA[i, j, k], wavelength)\n",
    "            #print(int_i)\n",
    "            if int_i < 2:\n",
    "                if np.abs(V_k[i, j, k])<40:\n",
    "                    V_k[i,j,k]=0\n",
    "figure = plt.figure(figsize=(15, 10))\n",
    "b = np.flipud(np.rot90(V_k[8]))\n",
    "ax = plt.subplot(projection=wcs_raster.dropaxis(0), slices=('y', 'x'))\n",
    "ax2 = ax.imshow(b, cmap='RdBu_r', aspect= hd_raster['FOVX']/hd_raster['FOVY'], vmin= -60, vmax= 60)\n",
    "clb = figure.colorbar(ax2,shrink=1)\n",
    "clb.set_label('km/s', labelpad = -42, y= 1.03, rotation=0, fontsize=13)\n",
    "ax.coords[0].set_major_formatter('s.s')\n",
    "ax.coords[1].set_major_formatter('s.s')\n",
    "ax.set_xlabel(\"Solar X\")\n",
    "ax.set_ylabel(\"Solar Y\")\n",
    "plt.title('Raster {0}: {1} UT'.format(8+1, t_rasters[8]),fontsize=14)\n",
    "plt.savefig('DopplerK.png', format='png', bbox_inches='tight')\n",
    "plt.show()\n"
   ]
  },
  {
   "cell_type": "code",
   "execution_count": null,
   "metadata": {},
   "outputs": [],
   "source": [
    "for i in range(0,15):\n",
    "    for j in range(0,63):\n",
    "        for k in range(0,V_h.shape[2]):\n",
    "            int_i = np.trapz(S_DATA[i, j, k], wavelength)\n",
    "            #print(int_i)\n",
    "            if int_i < 2:\n",
    "                if np.abs(V_h[i, j, k])<40:\n",
    "                    V_h[i,j,k]=0\n",
    "figure = plt.figure(figsize=(15, 10))\n",
    "b = np.flipud(np.rot90(V_h[8]))\n",
    "ax = plt.subplot(projection=wcs_raster.dropaxis(0), slices=('y', 'x'))\n",
    "ax2 = ax.imshow(b, cmap='RdBu_r', aspect= hd_raster['FOVX']/hd_raster['FOVY'], vmin= -60, vmax= 60)\n",
    "clb = figure.colorbar(ax2,shrink=1)\n",
    "clb.set_label('km/s', labelpad = -42, y= 1.03, rotation=0, fontsize=13)\n",
    "ax.coords[0].set_major_formatter('s.s')\n",
    "ax.coords[1].set_major_formatter('s.s')\n",
    "ax.set_xlabel(\"Solar X\")\n",
    "ax.set_ylabel(\"Solar Y\")\n",
    "plt.title('Raster {0}: {1} UT'.format(8+1, t_rasters[8]),fontsize=14)\n",
    "plt.savefig('DopplerH.png', format='png', bbox_inches='tight')\n",
    "plt.show()\n"
   ]
  },
  {
   "cell_type": "markdown",
   "metadata": {},
   "source": [
    "For **k line**:"
   ]
  },
  {
   "cell_type": "code",
   "execution_count": null,
   "metadata": {
    "scrolled": false
   },
   "outputs": [],
   "source": [
    "for i in range(0,15):\n",
    "    for j in range(0,63):\n",
    "        for k in range(0,V_k.shape[2]):\n",
    "            int_i = np.trapz(S_DATA[i, j, k], wavelength)\n",
    "            #print(int_i)\n",
    "            if int_i < 2:\n",
    "                if np.abs(V_k[i, j, k])<40:\n",
    "                    V_k[i,j,k]=0\n",
    "    figure = plt.figure(figsize=(15, 10))\n",
    "    b = np.flipud(np.rot90(V_k[i]))\n",
    "    ax = plt.subplot(projection=wcs.dropaxis(0), slices=('y', 'x'))\n",
    "    ax2 = ax.imshow(b, cmap='RdBu_r', aspect= hd_raster['FOVX']/hd_raster['FOVY'], vmin= -60, vmax= 60)\n",
    "    clb = figure.colorbar(ax2,shrink=1)\n",
    "    clb.set_label('km/s', labelpad = -42, y= 1.03, rotation=0, fontsize=13)\n",
    "    ax.coords[0].set_major_formatter('s.s')\n",
    "    ax.coords[1].set_major_formatter('s.s')\n",
    "    ax.set_xlabel(\"Solar X\")\n",
    "    ax.set_ylabel(\"Solar Y\")\n",
    "    plt.title('Raster {0}: {1} UT'.format(i+1, t_rasters[i]),fontsize=14)\n",
    "    plt.show()"
   ]
  },
  {
   "cell_type": "markdown",
   "metadata": {},
   "source": [
    "For **h_line**:"
   ]
  },
  {
   "cell_type": "code",
   "execution_count": null,
   "metadata": {
    "scrolled": false
   },
   "outputs": [],
   "source": [
    "for i in range(0,15):\n",
    "    for j in range(0,63):\n",
    "        for k in range(0,V_h.shape[2]):\n",
    "            int_i = np.trapz(S_DATA[i, j, k], wavelength)\n",
    "            #print(int_i)\n",
    "            if int_i < 2:\n",
    "                if np.abs(V_h[i, j, k])<40:\n",
    "                    V_h[i,j,k]=0\n",
    "    figure = plt.figure(figsize=(15, 10))\n",
    "    b = np.flipud(np.rot90(V_h[i]))\n",
    "    ax = plt.subplot(projection=wcs.dropaxis(0), slices=('y', 'x'))\n",
    "    ax2 = ax.imshow(b, cmap='RdBu_r', aspect= hd_raster['FOVX']/hd_raster['FOVY'], vmin= -60, vmax= 60)\n",
    "    clb = figure.colorbar(ax2,shrink=1)\n",
    "    clb.set_label('km/s', labelpad = -42, y= 1.03, rotation=0, fontsize=13)\n",
    "    ax.coords[0].set_major_formatter('s.s')\n",
    "    ax.coords[1].set_major_formatter('s.s')\n",
    "    ax.set_xlabel(\"Solar X\")\n",
    "    ax.set_ylabel(\"Solar Y\")\n",
    "    plt.title('Raster {0}: {1} UT'.format(i, t_rasters[i]),fontsize=14)\n",
    "    plt.show()"
   ]
  },
  {
   "cell_type": "markdown",
   "metadata": {},
   "source": [
    "### Combine with POS velocities"
   ]
  },
  {
   "cell_type": "code",
   "execution_count": null,
   "metadata": {},
   "outputs": [],
   "source": [
    "%store -r POS_x\n",
    "%store -r POS_y"
   ]
  },
  {
   "cell_type": "code",
   "execution_count": null,
   "metadata": {},
   "outputs": [],
   "source": [
    "import cv2\n",
    "POS_x = np.array(POS_x)\n",
    "POS_y = np.array(POS_y)\n",
    "#zeros = np.full((POS_x.shape[0],POS_x.shape[1],10),0)\n",
    "#POS_x = np.concatenate((POS_x, zeros), axis=2)\n",
    "#POS_y = np.concatenate((POS_y, zeros), axis=2)\n",
    "#print(POS_x.shape, POS_y.shape)\n",
    "step=3\n",
    "colour = []\n",
    "for i in range(0, POS_x.shape[0]):\n",
    "    mag, ang = cv2.cartToPolar(POS_x[i][::step, ::step],POS_y[i][::step, ::step])\n",
    "    colour.append(mag)\n",
    "colour = np.array(colour)\n",
    "print(colour[0].shape)\n",
    "print(V_k.shape)"
   ]
  },
  {
   "cell_type": "code",
   "execution_count": null,
   "metadata": {
    "scrolled": true
   },
   "outputs": [],
   "source": [
    "import scipy\n",
    "from PIL import Image\n",
    "plt.figure(figsize=[16,16])\n",
    "image = S_DATA[6, 10:64,60:320, mg_index-20] #[5,:,50:320]\n",
    "#image = V_k[6, 10:64,60:320]\n",
    "rot = np.flipud(np.rot90(image,1))\n",
    "step = 3\n",
    "#plt.subplot(121)\n",
    "plt.title(\"Quiver plot of {}th SJI images\".format(i*16), fontsize=14)\n",
    "plt.xlabel(\"X-axis\")\n",
    "plt.ylabel(\"Y-axis\")\n",
    "plt.quiver(np.arange(0, POS_x.shape[2], step), np.arange(0, POS_x.shape[1], step), \n",
    "                     POS_x[32*6+15-40][::step, ::step], POS_y[32*6+15-40][::step, ::step], colour[32*6+15-40], cmap= 'plasma')# scale = 0.01, scale_units='xy')\n",
    "clb1 = plt.colorbar(shrink=0.7)\n",
    "clb1.set_label('velocity \\n(km/s)', labelpad=-40, y=1.05, rotation=0)\n",
    "#plt.subplot(122)\n",
    "k = cv2.copyMakeBorder(rot.copy(), 0,0,0,126, cv2.BORDER_CONSTANT)#, value='b')\n",
    "plt.imshow(k, vmin= 0, vmax= 700, origin='lower', cmap='YlGnBu')\n",
    "#plt.imshow(k, vmin= 70, vmax= -70, origin='lower', cmap='RdBu_r') \n",
    "clb1 = plt.colorbar(shrink=0.7)\n",
    "clb1.set_label('velocity \\n(km/s)', labelpad=-40, y=1.05, rotation=0)\n",
    "plt.show()\n",
    "#plt.imshow(scipy.ndimage.rotate(S_DATA[1, :, :,np.argmin(np.abs(wrange_k - core_k)) ],90))"
   ]
  },
  {
   "cell_type": "code",
   "execution_count": null,
   "metadata": {
    "scrolled": false
   },
   "outputs": [],
   "source": []
  },
  {
   "cell_type": "code",
   "execution_count": null,
   "metadata": {},
   "outputs": [],
   "source": []
  }
 ],
 "metadata": {
  "kernelspec": {
   "display_name": "Python 3 (ipykernel)",
   "language": "python",
   "name": "python3"
  },
  "language_info": {
   "codemirror_mode": {
    "name": "ipython",
    "version": 3
   },
   "file_extension": ".py",
   "mimetype": "text/x-python",
   "name": "python",
   "nbconvert_exporter": "python",
   "pygments_lexer": "ipython3",
   "version": "3.9.12"
  }
 },
 "nbformat": 4,
 "nbformat_minor": 4
}
